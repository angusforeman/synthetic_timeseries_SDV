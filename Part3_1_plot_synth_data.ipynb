{
 "cells": [
  {
   "cell_type": "code",
   "execution_count": 1,
   "metadata": {},
   "outputs": [
    {
     "name": "stderr",
     "output_type": "stream",
     "text": [
      "C:\\Users\\angusf\\AppData\\Local\\Temp\\ipykernel_22040\\1189011323.py:5: UserWarning: Could not infer format, so each element will be parsed individually, falling back to `dateutil`. To ensure parsing is consistent and as-expected, please specify a format.\n",
      "  synthetic_stock_data['Time']=pandas.to_datetime(synthetic_stock_data['Time'])\n"
     ]
    }
   ],
   "source": [
    "import pandas\n",
    "\n",
    "synthetic_stock_data = pandas.read_csv('./synthetic_Intraday_PARstock.csv')\n",
    "synthetic_stock_data['Combineddatetime']=pandas.to_datetime(synthetic_stock_data['Combineddatetime']) # Convert to datetime for correct future usage in plotting etc\n",
    "synthetic_stock_data['Time']=pandas.to_datetime(synthetic_stock_data['Time'])\n"
   ]
  },
  {
   "cell_type": "code",
   "execution_count": null,
   "metadata": {},
   "outputs": [],
   "source": [
    "import matplotlib.pyplot as plt\n",
    "\n",
    "# plot the synth data grouped by stock symbol\n",
    "grouped_data = synthetic_stock_data.groupby('Symbol')\n",
    "\n",
    "# plot the data for each stock symbol\n",
    "for symbol, data in grouped_data:\n",
    "    data.plot(x='Combineddatetime', y='Open', label=\"Synthesised data for synthetic symbol:\" + symbol)\n",
    "\n",
    "# add a legend to the plot\n",
    "\n",
    "plt.legend()\n",
    "plt.show()"
   ]
  }
 ],
 "metadata": {
  "kernelspec": {
   "display_name": "Python 3",
   "language": "python",
   "name": "python3"
  },
  "language_info": {
   "codemirror_mode": {
    "name": "ipython",
    "version": 3
   },
   "file_extension": ".py",
   "mimetype": "text/x-python",
   "name": "python",
   "nbconvert_exporter": "python",
   "pygments_lexer": "ipython3",
   "version": "3.10.4"
  },
  "orig_nbformat": 4
 },
 "nbformat": 4,
 "nbformat_minor": 2
}
